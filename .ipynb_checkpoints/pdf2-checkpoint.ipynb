{
 "cells": [
  {
   "cell_type": "markdown",
   "metadata": {},
   "source": [
    "When working with digitally available humanities data you might start feeling that your data is everywhere, but not in the right format you need to run computational analysis on it. While the amount of digitally available data continues to grow, it is often only available in a Portable Document Format (PDF). Not to fear. There are many Python tools that allow you to extract a PDF's image and/or textual data into a format that is condusive for distant reading.\n",
    "\n",
    "There are a variety of packages that allow us to extract the textual data of a PDF. We will look at two packages, PDFminer.six and Poppler. Of the two, PDFminer is the easier to set up, especially you use a Windows machine. Poppler is the more powerful program, and may be better suited to your needs if you are working with images.\n",
    "\n",
    "Both packages have the ability to recognize a varitey of fonts and characters, including Chinese, Japanese, and Korean languages in the case of PDFminer.six.  \n",
    "\n",
    "The first section will show you how to install PDFminer.six, how to pull in a single PDF and extract its text, and then how to loop through a directory and extract the text of multiple PDF documents. \n",
    "\n",
    "Note that this code will not run in the notebook. Feel free to copy and paste or save to a file as is useful.\n",
    "\n",
    "#### Installing PDFminer"
   ]
  },
  {
   "cell_type": "code",
   "execution_count": null,
   "metadata": {},
   "outputs": [],
   "source": [
    "# install PDFminer.six\n",
    "$ pip install pdfminer.six"
   ]
  },
  {
   "cell_type": "markdown",
   "metadata": {},
   "source": [
    "You may now run PDFminer.six as a python package, or, if you only need to occasionally extract a PDF's text, you can use it's command line features.\n",
    "\n",
    "#### Working with Text in a Single PDF"
   ]
  },
  {
   "cell_type": "code",
   "execution_count": null,
   "metadata": {},
   "outputs": [],
   "source": [
    "# call PDFminer's built-in script to extract text from a PDF and print that data to the command line\n",
    "$ pdf2txt.py source.pdf\n",
    "\n",
    "# extract textual data from a PDF and write that data as plain text to a new file\n",
    "$ pdf2txt.py source.pdf -o output.txt"
   ]
  },
  {
   "cell_type": "markdown",
   "metadata": {},
   "source": [
    "#### Working with Text in Multiple PDFs\n",
    "\n",
    "To loop through a directory, find all the PDFs, extract their textual data, and write that data as a new .txt file in an output directory:\n",
    "\n",
    "Before you begin, create an output directory, what we have named \"out_txt/\" below."
   ]
  },
  {
   "cell_type": "code",
   "execution_count": null,
   "metadata": {},
   "outputs": [],
   "source": [
    "import pdfminer\n",
    "import os\n",
    "\n",
    "from io import StringIO\n",
    "from pdfminer.pdfinterp import PDFResourceManager, PDFPageInterpreter\n",
    "from pdfminer.converter import HTMLConverter,TextConverter,XMLConverter\n",
    "from pdfminer.layout import LAParams\n",
    "from pdfminer.pdfpage import PDFPage\n",
    "import io\n",
    "import os\n",
    "import sys, getopt\n",
    "\n",
    "#converts pdf, returns its text content as a string\n",
    "def convert(case, fn, pages=None):\n",
    "    if not pages: pagenums = set();\n",
    "    else:         pagenums = set(pages);\n",
    "    manager = PDFResourceManager()\n",
    "    codec = 'utf-8'\n",
    "    caching = True\n",
    "\n",
    "    if case == 'text' :\n",
    "        output = io.StringIO()\n",
    "        converter = TextConverter(manager, output, laparams=LAParams())\n",
    "    if case == 'HTML' :\n",
    "        output = io.BytesIO()\n",
    "        converter = HTMLConverter(manager, output, laparams=LAParams())\n",
    "\n",
    "    interpreter = PDFPageInterpreter(manager, converter)\n",
    "    infile = open(fn, 'rb')\n",
    "\n",
    "    for page in PDFPage.get_pages(infile, pagenums,caching=caching, check_extractable=True):\n",
    "        interpreter.process_page(page)\n",
    "\n",
    "    convertedPDF = output.getvalue()\n",
    "\n",
    "    infile.close(); converter.close(); output.close()\n",
    "    return convertedPDF\n",
    "\n",
    "def convertMultiple(pdfDir, txtDir):\n",
    "      for pdf in os.listdir(pdfDir): #iterate through pdfs in pdf directory\n",
    "          fileExtension = pdf.split(\".\")[-1]\n",
    "          if fileExtension == \"pdf\":\n",
    "              pdfFilename = pdfDir + pdf\n",
    "              text = convert('text',pdfFilename) #get string of text content of pdf\n",
    "              textFilename = txtDir + pdf + \".txt\"\n",
    "              textFile = open(textFilename, \"w\") #make text file\n",
    "              textFile.write(text) #write text to text file\n",
    "\n",
    "pdfDir = \"pdf_input_dir/\"\n",
    "txtDir = \"out_txt/\"\n",
    "convertMultiple(pdfDir, txtDir)\n",
    "print('look it finished')"
   ]
  },
  {
   "cell_type": "markdown",
   "metadata": {},
   "source": [
    "The following section will show the basics of using Poppler to extract text and images from a PDF and from a group of PDFs. There is much more one can do with Poppler.\n",
    "\n",
    "#### Installing Poppler"
   ]
  },
  {
   "cell_type": "code",
   "execution_count": null,
   "metadata": {},
   "outputs": [],
   "source": [
    "# install Poppler\n",
    "$ brew install poppler"
   ]
  },
  {
   "cell_type": "markdown",
   "metadata": {},
   "source": [
    "#### Working with Text"
   ]
  },
  {
   "cell_type": "code",
   "execution_count": null,
   "metadata": {},
   "outputs": [],
   "source": [
    "# to extract embedded text from a single PDF\n",
    "$ pdftotext 'input.pdf' 'output.txt'\n",
    "\n",
    "# to extract embedded text from all the PDFs in your working directory\n",
    "$ find . -name '*.pdf' -exec pdftotext '{}' '{}.txt' \\;"
   ]
  },
  {
   "cell_type": "markdown",
   "metadata": {},
   "source": [
    "#### Working with Images"
   ]
  },
  {
   "cell_type": "code",
   "execution_count": null,
   "metadata": {},
   "outputs": [],
   "source": [
    "# to extract embedded images from a single PDF\n",
    "# you may specify the format of the output image, we have used PNG\n",
    "$ pdfimages -png 'input.pdf' 'output'\n",
    "\n",
    "# to extract embedded images from all the PDFs in your working directory\n",
    "find . -name '*.pdf' -exec pdfimages -png '{}' '{}' \\;"
   ]
  },
  {
   "cell_type": "markdown",
   "metadata": {},
   "source": [
    "Note that Poppler will only extract images that are embedded as individual images within the PDF. Depending on the nature of the PDF, what might appear to you as image will not be recognized as one by Poppler. There are work arounds to this problem on [Programming Historian](https://programminghistorian.org/en/lessons/extracting-illustrated-pages). "
   ]
  }
 ],
 "metadata": {
  "kernelspec": {
   "display_name": "Python 3",
   "language": "python",
   "name": "python3"
  },
  "language_info": {
   "codemirror_mode": {
    "name": "ipython",
    "version": 3
   },
   "file_extension": ".py",
   "mimetype": "text/x-python",
   "name": "python",
   "nbconvert_exporter": "python",
   "pygments_lexer": "ipython3",
   "version": "3.6.3"
  }
 },
 "nbformat": 4,
 "nbformat_minor": 4
}
