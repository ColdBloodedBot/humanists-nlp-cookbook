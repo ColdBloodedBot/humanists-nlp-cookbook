{
 "cells": [
  {
   "cell_type": "markdown",
   "metadata": {},
   "source": [
    "# A Humanist's Cookbook for Natural Language Processing in Python"
   ]
  },
  {
   "cell_type": "markdown",
   "metadata": {},
   "source": [
    "The following notebook represents a cookbook of sorts, a series of python 3 recipes for common problems and issues associated with preparing data for text analysis. Topics planned:\n",
    "\n",
    "Nuts and Bolts\n",
    "* NLP Pipeline\n",
    "* Spacy vs NLTK\n",
    "\n",
    "Getting\n",
    "\n",
    "* [Set up](set_up.ipynb)\n",
    "* [Working with the file structure](file_structure.ipynb) Drafted\n",
    "* [Working with Plain Text Files](plain_text.ipynb) Drafted\n",
    "* [Getting data from websites](scraping.ipynb) In progress\n",
    "* [xml and tei](xml.ipynb)\n",
    "* [Working with tei](Working%20with%20tei%20draft.ipynb)\n",
    "* [Contextualized Word Search within a TEI document](contextualized_word_search.ipynb) To Review \n",
    "* csv\n",
    "* [PDF](pdf.ipynb)\n",
    "* APIs\n",
    "* [HTRC](htrc.ipynb)\n",
    "\n",
    "Preparing\n",
    "\n",
    "* [Stopwords](stopwords.ipynb) Drafted\n",
    "* [Chunking](chunking.ipynb) Drafted\n",
    "* [Preparing a corpus pipeline](corpus.ipynb) In progress\n",
    "\n",
    "Processing text\n",
    "\n",
    "* pickling / serializing files\n",
    "* python 2 vs 3 and encoding\n",
    "* filtering by pos tagging\n",
    "\n",
    "\n"
   ]
  },
  {
   "cell_type": "markdown",
   "metadata": {},
   "source": [
    "Nothing goes beyond the basics - the problems that you encounter when acquiring and processing texts for analysis and NLP. This aims to do that with a beginner reader in mind. Also aims to go beyond a simple set of code blocks and offer, in a quickly viewable format, the humanities reasoning behind using or not using particular approaches. After all, there are a number of ways to approach any problem, to tweak any processing. And any of them can have big ramifications for your results."
   ]
  }
 ],
 "metadata": {
  "kernelspec": {
   "display_name": "Python 3",
   "language": "python",
   "name": "python3"
  },
  "language_info": {
   "codemirror_mode": {
    "name": "ipython",
    "version": 3
   },
   "file_extension": ".py",
   "mimetype": "text/x-python",
   "name": "python",
   "nbconvert_exporter": "python",
   "pygments_lexer": "ipython3",
   "version": "3.6.3"
  }
 },
 "nbformat": 4,
 "nbformat_minor": 2
}
