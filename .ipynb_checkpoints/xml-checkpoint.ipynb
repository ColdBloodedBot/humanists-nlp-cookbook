{
 "cells": [
  {
   "cell_type": "markdown",
   "metadata": {},
   "source": [
    "# Working with XML and TEI"
   ]
  },
  {
   "cell_type": "markdown",
   "metadata": {},
   "source": [
    "## XML"
   ]
  },
  {
   "cell_type": "markdown",
   "metadata": {},
   "source": [
    "In progress"
   ]
  },
  {
   "cell_type": "markdown",
   "metadata": {},
   "source": [
    "## TEI"
   ]
  },
  {
   "cell_type": "markdown",
   "metadata": {},
   "source": [
    "The Text Encoding Initiative (TEI) is one of the longest standing and robust digital humanities projects. Thanks to the longstanding work of the TEI consortium, scholars have extensive tools at their disposal for encoding the nuances of textual data in a systematic way. Once a text has been organized and encoded, it can sometimes be difficult to tell what might come next for your encoded and shared documents. There are number of possibilities related to display and archiving, but let's take a look at the analytical affordances of such structured data.\n",
    "\n",
    "TEI is a flavor of XML, and we can use the same tools to access it that we used in the scraping chapter for HTML. First let's read in some text. We have a TEI encoded version of Dostoevsky's _The Brothers Karamazov_, [available from Project Gutenberg](http://www.gutenberg.org/browse/authors/d#a314)."
   ]
  },
  {
   "cell_type": "code",
   "execution_count": 1,
   "metadata": {},
   "outputs": [
    {
     "ename": "ModuleNotFoundError",
     "evalue": "No module named 'soup'",
     "output_type": "error",
     "traceback": [
      "\u001b[0;31m---------------------------------------------------------------------------\u001b[0m",
      "\u001b[0;31mModuleNotFoundError\u001b[0m                       Traceback (most recent call last)",
      "\u001b[0;32m<ipython-input-1-c46bdbf471d0>\u001b[0m in \u001b[0;36m<module>\u001b[0;34m\u001b[0m\n\u001b[0;32m----> 1\u001b[0;31m \u001b[0mget_ipython\u001b[0m\u001b[0;34m(\u001b[0m\u001b[0;34m)\u001b[0m\u001b[0;34m.\u001b[0m\u001b[0mrun_line_magic\u001b[0m\u001b[0;34m(\u001b[0m\u001b[0;34m'load_ext'\u001b[0m\u001b[0;34m,\u001b[0m \u001b[0;34m'soup'\u001b[0m\u001b[0;34m)\u001b[0m\u001b[0;34m\u001b[0m\u001b[0m\n\u001b[0m",
      "\u001b[0;32m/Library/Frameworks/Python.framework/Versions/3.6/lib/python3.6/site-packages/IPython/core/interactiveshell.py\u001b[0m in \u001b[0;36mrun_line_magic\u001b[0;34m(self, magic_name, line, _stack_depth)\u001b[0m\n\u001b[1;32m   2315\u001b[0m                 \u001b[0mkwargs\u001b[0m\u001b[0;34m[\u001b[0m\u001b[0;34m'local_ns'\u001b[0m\u001b[0;34m]\u001b[0m \u001b[0;34m=\u001b[0m \u001b[0msys\u001b[0m\u001b[0;34m.\u001b[0m\u001b[0m_getframe\u001b[0m\u001b[0;34m(\u001b[0m\u001b[0mstack_depth\u001b[0m\u001b[0;34m)\u001b[0m\u001b[0;34m.\u001b[0m\u001b[0mf_locals\u001b[0m\u001b[0;34m\u001b[0m\u001b[0m\n\u001b[1;32m   2316\u001b[0m             \u001b[0;32mwith\u001b[0m \u001b[0mself\u001b[0m\u001b[0;34m.\u001b[0m\u001b[0mbuiltin_trap\u001b[0m\u001b[0;34m:\u001b[0m\u001b[0;34m\u001b[0m\u001b[0m\n\u001b[0;32m-> 2317\u001b[0;31m                 \u001b[0mresult\u001b[0m \u001b[0;34m=\u001b[0m \u001b[0mfn\u001b[0m\u001b[0;34m(\u001b[0m\u001b[0;34m*\u001b[0m\u001b[0margs\u001b[0m\u001b[0;34m,\u001b[0m \u001b[0;34m**\u001b[0m\u001b[0mkwargs\u001b[0m\u001b[0;34m)\u001b[0m\u001b[0;34m\u001b[0m\u001b[0m\n\u001b[0m\u001b[1;32m   2318\u001b[0m             \u001b[0;32mreturn\u001b[0m \u001b[0mresult\u001b[0m\u001b[0;34m\u001b[0m\u001b[0m\n\u001b[1;32m   2319\u001b[0m \u001b[0;34m\u001b[0m\u001b[0m\n",
      "\u001b[0;32m<decorator-gen-64>\u001b[0m in \u001b[0;36mload_ext\u001b[0;34m(self, module_str)\u001b[0m\n",
      "\u001b[0;32m/Library/Frameworks/Python.framework/Versions/3.6/lib/python3.6/site-packages/IPython/core/magic.py\u001b[0m in \u001b[0;36m<lambda>\u001b[0;34m(f, *a, **k)\u001b[0m\n\u001b[1;32m    185\u001b[0m     \u001b[0;31m# but it's overkill for just that one bit of state.\u001b[0m\u001b[0;34m\u001b[0m\u001b[0;34m\u001b[0m\u001b[0m\n\u001b[1;32m    186\u001b[0m     \u001b[0;32mdef\u001b[0m \u001b[0mmagic_deco\u001b[0m\u001b[0;34m(\u001b[0m\u001b[0marg\u001b[0m\u001b[0;34m)\u001b[0m\u001b[0;34m:\u001b[0m\u001b[0;34m\u001b[0m\u001b[0m\n\u001b[0;32m--> 187\u001b[0;31m         \u001b[0mcall\u001b[0m \u001b[0;34m=\u001b[0m \u001b[0;32mlambda\u001b[0m \u001b[0mf\u001b[0m\u001b[0;34m,\u001b[0m \u001b[0;34m*\u001b[0m\u001b[0ma\u001b[0m\u001b[0;34m,\u001b[0m \u001b[0;34m**\u001b[0m\u001b[0mk\u001b[0m\u001b[0;34m:\u001b[0m \u001b[0mf\u001b[0m\u001b[0;34m(\u001b[0m\u001b[0;34m*\u001b[0m\u001b[0ma\u001b[0m\u001b[0;34m,\u001b[0m \u001b[0;34m**\u001b[0m\u001b[0mk\u001b[0m\u001b[0;34m)\u001b[0m\u001b[0;34m\u001b[0m\u001b[0m\n\u001b[0m\u001b[1;32m    188\u001b[0m \u001b[0;34m\u001b[0m\u001b[0m\n\u001b[1;32m    189\u001b[0m         \u001b[0;32mif\u001b[0m \u001b[0mcallable\u001b[0m\u001b[0;34m(\u001b[0m\u001b[0marg\u001b[0m\u001b[0;34m)\u001b[0m\u001b[0;34m:\u001b[0m\u001b[0;34m\u001b[0m\u001b[0m\n",
      "\u001b[0;32m/Library/Frameworks/Python.framework/Versions/3.6/lib/python3.6/site-packages/IPython/core/magics/extension.py\u001b[0m in \u001b[0;36mload_ext\u001b[0;34m(self, module_str)\u001b[0m\n\u001b[1;32m     31\u001b[0m         \u001b[0;32mif\u001b[0m \u001b[0;32mnot\u001b[0m \u001b[0mmodule_str\u001b[0m\u001b[0;34m:\u001b[0m\u001b[0;34m\u001b[0m\u001b[0m\n\u001b[1;32m     32\u001b[0m             \u001b[0;32mraise\u001b[0m \u001b[0mUsageError\u001b[0m\u001b[0;34m(\u001b[0m\u001b[0;34m'Missing module name.'\u001b[0m\u001b[0;34m)\u001b[0m\u001b[0;34m\u001b[0m\u001b[0m\n\u001b[0;32m---> 33\u001b[0;31m         \u001b[0mres\u001b[0m \u001b[0;34m=\u001b[0m \u001b[0mself\u001b[0m\u001b[0;34m.\u001b[0m\u001b[0mshell\u001b[0m\u001b[0;34m.\u001b[0m\u001b[0mextension_manager\u001b[0m\u001b[0;34m.\u001b[0m\u001b[0mload_extension\u001b[0m\u001b[0;34m(\u001b[0m\u001b[0mmodule_str\u001b[0m\u001b[0;34m)\u001b[0m\u001b[0;34m\u001b[0m\u001b[0m\n\u001b[0m\u001b[1;32m     34\u001b[0m \u001b[0;34m\u001b[0m\u001b[0m\n\u001b[1;32m     35\u001b[0m         \u001b[0;32mif\u001b[0m \u001b[0mres\u001b[0m \u001b[0;34m==\u001b[0m \u001b[0;34m'already loaded'\u001b[0m\u001b[0;34m:\u001b[0m\u001b[0;34m\u001b[0m\u001b[0m\n",
      "\u001b[0;32m/Library/Frameworks/Python.framework/Versions/3.6/lib/python3.6/site-packages/IPython/core/extensions.py\u001b[0m in \u001b[0;36mload_extension\u001b[0;34m(self, module_str)\u001b[0m\n\u001b[1;32m     78\u001b[0m             \u001b[0;32mif\u001b[0m \u001b[0mmodule_str\u001b[0m \u001b[0;32mnot\u001b[0m \u001b[0;32min\u001b[0m \u001b[0msys\u001b[0m\u001b[0;34m.\u001b[0m\u001b[0mmodules\u001b[0m\u001b[0;34m:\u001b[0m\u001b[0;34m\u001b[0m\u001b[0m\n\u001b[1;32m     79\u001b[0m                 \u001b[0;32mwith\u001b[0m \u001b[0mprepended_to_syspath\u001b[0m\u001b[0;34m(\u001b[0m\u001b[0mself\u001b[0m\u001b[0;34m.\u001b[0m\u001b[0mipython_extension_dir\u001b[0m\u001b[0;34m)\u001b[0m\u001b[0;34m:\u001b[0m\u001b[0;34m\u001b[0m\u001b[0m\n\u001b[0;32m---> 80\u001b[0;31m                     \u001b[0mmod\u001b[0m \u001b[0;34m=\u001b[0m \u001b[0mimport_module\u001b[0m\u001b[0;34m(\u001b[0m\u001b[0mmodule_str\u001b[0m\u001b[0;34m)\u001b[0m\u001b[0;34m\u001b[0m\u001b[0m\n\u001b[0m\u001b[1;32m     81\u001b[0m                     \u001b[0;32mif\u001b[0m \u001b[0mmod\u001b[0m\u001b[0;34m.\u001b[0m\u001b[0m__file__\u001b[0m\u001b[0;34m.\u001b[0m\u001b[0mstartswith\u001b[0m\u001b[0;34m(\u001b[0m\u001b[0mself\u001b[0m\u001b[0;34m.\u001b[0m\u001b[0mipython_extension_dir\u001b[0m\u001b[0;34m)\u001b[0m\u001b[0;34m:\u001b[0m\u001b[0;34m\u001b[0m\u001b[0m\n\u001b[1;32m     82\u001b[0m                         print((\"Loading extensions from {dir} is deprecated. \"\n",
      "\u001b[0;32m/Library/Frameworks/Python.framework/Versions/3.6/lib/python3.6/importlib/__init__.py\u001b[0m in \u001b[0;36mimport_module\u001b[0;34m(name, package)\u001b[0m\n\u001b[1;32m    124\u001b[0m                 \u001b[0;32mbreak\u001b[0m\u001b[0;34m\u001b[0m\u001b[0m\n\u001b[1;32m    125\u001b[0m             \u001b[0mlevel\u001b[0m \u001b[0;34m+=\u001b[0m \u001b[0;36m1\u001b[0m\u001b[0;34m\u001b[0m\u001b[0m\n\u001b[0;32m--> 126\u001b[0;31m     \u001b[0;32mreturn\u001b[0m \u001b[0m_bootstrap\u001b[0m\u001b[0;34m.\u001b[0m\u001b[0m_gcd_import\u001b[0m\u001b[0;34m(\u001b[0m\u001b[0mname\u001b[0m\u001b[0;34m[\u001b[0m\u001b[0mlevel\u001b[0m\u001b[0;34m:\u001b[0m\u001b[0;34m]\u001b[0m\u001b[0;34m,\u001b[0m \u001b[0mpackage\u001b[0m\u001b[0;34m,\u001b[0m \u001b[0mlevel\u001b[0m\u001b[0;34m)\u001b[0m\u001b[0;34m\u001b[0m\u001b[0m\n\u001b[0m\u001b[1;32m    127\u001b[0m \u001b[0;34m\u001b[0m\u001b[0m\n\u001b[1;32m    128\u001b[0m \u001b[0;34m\u001b[0m\u001b[0m\n",
      "\u001b[0;32m/Library/Frameworks/Python.framework/Versions/3.6/lib/python3.6/importlib/_bootstrap.py\u001b[0m in \u001b[0;36m_gcd_import\u001b[0;34m(name, package, level)\u001b[0m\n",
      "\u001b[0;32m/Library/Frameworks/Python.framework/Versions/3.6/lib/python3.6/importlib/_bootstrap.py\u001b[0m in \u001b[0;36m_find_and_load\u001b[0;34m(name, import_)\u001b[0m\n",
      "\u001b[0;32m/Library/Frameworks/Python.framework/Versions/3.6/lib/python3.6/importlib/_bootstrap.py\u001b[0m in \u001b[0;36m_find_and_load_unlocked\u001b[0;34m(name, import_)\u001b[0m\n",
      "\u001b[0;31mModuleNotFoundError\u001b[0m: No module named 'soup'"
     ]
    }
   ],
   "source": [
    "%load_ext soup"
   ]
  },
  {
   "cell_type": "code",
   "execution_count": 2,
   "metadata": {},
   "outputs": [],
   "source": [
    "# import the BeautifulSoup library\n",
    "from bs4 import BeautifulSoup\n",
    "\n",
    "# store the filename of the text.\n",
    "filename = 'corpus/brothers_karamazov.tei'\n",
    "\n",
    "# read in the filename, store it temporarily as a variable called text.\n",
    "with open(filename, 'r') as fin:\n",
    "    text = fin.read()\n",
    "\n",
    "# take the text, turn it into a BeautifulSoup object, and store in a variable called tei.\n",
    "tei = BeautifulSoup(text, 'xml')"
   ]
  },
  {
   "cell_type": "markdown",
   "metadata": {},
   "source": [
    "We know have access to the encoded text and can manipulate it in much the same way that we would an HTML file. It is worth noting that knowing excatly _what_ to query for depends to a large degree on knowledge of your object of study. No two TEI files will be formatted or encoded in exactly the same way, so you will need to closely examine your materials early on. Let's take a look at the first part of the TEI file."
   ]
  },
  {
   "cell_type": "code",
   "execution_count": 3,
   "metadata": {
    "scrolled": true
   },
   "outputs": [
    {
     "data": {
      "text/html": [
       "<div class=\"highlight\" style=\"background: #f8f8f8\"><pre style=\"line-height: 125%\"><span></span>&lt;<span style=\"color: #008000; font-weight: bold\">teiHeader</span>&gt;\n",
       " &lt;<span style=\"color: #008000; font-weight: bold\">fileDesc</span>&gt;\n",
       "  &lt;<span style=\"color: #008000; font-weight: bold\">titleStmt</span>&gt;\n",
       "   &lt;<span style=\"color: #008000; font-weight: bold\">title</span>&gt;\n",
       "    The Brothers Karamazov\n",
       "   &lt;/<span style=\"color: #008000; font-weight: bold\">title</span>&gt;\n",
       "   &lt;<span style=\"color: #008000; font-weight: bold\">author</span>&gt;\n",
       "    &lt;<span style=\"color: #008000; font-weight: bold\">name</span> <span style=\"color: #7D9029\">reg</span><span style=\"color: #666666\">=</span><span style=\"color: #BA2121\">&quot;Dostoyevsky, Fyodor&quot;</span>&gt;\n",
       "     Fyodor Dostoyevsky\n",
       "    &lt;/<span style=\"color: #008000; font-weight: bold\">name</span>&gt;\n",
       "   &lt;/<span style=\"color: #008000; font-weight: bold\">author</span>&gt;\n",
       "  &lt;/<span style=\"color: #008000; font-weight: bold\">titleStmt</span>&gt;\n",
       "  &lt;<span style=\"color: #008000; font-weight: bold\">editionStmt</span>&gt;\n",
       "   &lt;<span style=\"color: #008000; font-weight: bold\">edition</span> <span style=\"color: #7D9029\">n</span><span style=\"color: #666666\">=</span><span style=\"color: #BA2121\">&quot;1&quot;</span>&gt;\n",
       "    Edition 1\n",
       "   &lt;/<span style=\"color: #008000; font-weight: bold\">edition</span>&gt;\n",
       "  &lt;/<span style=\"color: #008000; font-weight: bold\">editionStmt</span>&gt;\n",
       "  &lt;<span style=\"color: #008000; font-weight: bold\">publicationStmt</span>&gt;\n",
       "   &lt;<span style=\"color: #008000; font-weight: bold\">publisher</span>&gt;\n",
       "    Project Gutenberg\n",
       "   &lt;/<span style=\"color: #008000; font-weight: bold\">publisher</span>&gt;\n",
       "   &lt;<span style=\"color: #008000; font-weight: bold\">date</span>&gt;\n",
       "    February 12, 2009\n",
       "   &lt;/<span style=\"color: #008000; font-weight: bold\">date</span>&gt;\n",
       "   &lt;<span style=\"color: #008000; font-weight: bold\">idno</span> <span style=\"color: #7D9029\">type</span><span style=\"color: #666666\">=</span><span style=\"color: #BA2121\">&quot;etext-no&quot;</span>&gt;\n",
       "    28054\n",
       "   &lt;/<span style=\"color: #008000; font-weight: bold\">idno</span>&gt;\n",
       "   &lt;<span style=\"color: #008000; font-weight: bold\">availability</span>&gt;\n",
       "    &lt;<span style=\"color: #008000; font-weight: bold\">p</span>&gt;\n",
       "     This eBook is for the use of anyone anywhere at no cost and\n",
       "        with almost no restrictions whatsoever. You may copy it, give it\n",
       "        away or re-use it under the terms of the Project Gutenberg\n",
       "        License online at www.gutenberg.org/license\n",
       "    &lt;/<span style=\"color: #008000; font-weight: bold\">p</span>&gt;\n",
       "   &lt;/<span style=\"color: #008000; font-weight: bold\">availability</span>&gt;\n",
       "  &lt;/<span style=\"color: #008000; font-weight: bold\">publicationStmt</span>&gt;\n",
       "  &lt;<span style=\"color: #008000; font-weight: bold\">sourceDesc</span>&gt;\n",
       "   &lt;<span style=\"color: #008000; font-weight: bold\">bibl</span>&gt;\n",
       "    Created electronically.\n",
       "   &lt;/<span style=\"color: #008000; font-weight: bold\">bibl</span>&gt;\n",
       "  &lt;/<span style=\"color: #008000; font-weight: bold\">sourceDesc</span>&gt;\n",
       " &lt;/<span style=\"color: #008000; font-weight: bold\">fileDesc</span>&gt;\n",
       " &lt;<span style=\"color: #008000; font-weight: bold\">encodingDesc</span>&gt;\n",
       " &lt;/<span style=\"color: #008000; font-weight: bold\">encodingDesc</span>&gt;\n",
       " &lt;<span style=\"color: #008000; font-weight: bold\">profileDesc</span>&gt;\n",
       "  &lt;<span style=\"color: #008000; font-weight: bold\">langUsage</span>&gt;\n",
       "   &lt;<span style=\"color: #008000; font-weight: bold\">language</span> <span style=\"color: #7D9029\">id</span><span style=\"color: #666666\">=</span><span style=\"color: #BA2121\">&quot;en&quot;</span>/&gt;\n",
       "   &lt;<span style=\"color: #008000; font-weight: bold\">language</span> <span style=\"color: #7D9029\">id</span><span style=\"color: #666666\">=</span><span style=\"color: #BA2121\">&quot;fr&quot;</span>/&gt;\n",
       "   &lt;<span style=\"color: #008000; font-weight: bold\">language</span> <span style=\"color: #7D9029\">id</span><span style=\"color: #666666\">=</span><span style=\"color: #BA2121\">&quot;la&quot;</span>/&gt;\n",
       "   &lt;<span style=\"color: #008000; font-weight: bold\">language</span> <span style=\"color: #7D9029\">id</span><span style=\"color: #666666\">=</span><span style=\"color: #BA2121\">&quot;de&quot;</span>/&gt;\n",
       "  &lt;/<span style=\"color: #008000; font-weight: bold\">langUsage</span>&gt;\n",
       " &lt;/<span style=\"color: #008000; font-weight: bold\">profileDesc</span>&gt;\n",
       " &lt;<span style=\"color: #008000; font-weight: bold\">revisionDesc</span>&gt;\n",
       "  &lt;<span style=\"color: #008000; font-weight: bold\">change</span>&gt;\n",
       "   &lt;<span style=\"color: #008000; font-weight: bold\">date</span> <span style=\"color: #7D9029\">value</span><span style=\"color: #666666\">=</span><span style=\"color: #BA2121\">&quot;2009-02-12&quot;</span>&gt;\n",
       "    February 12, 2009\n",
       "   &lt;/<span style=\"color: #008000; font-weight: bold\">date</span>&gt;\n",
       "   &lt;<span style=\"color: #008000; font-weight: bold\">respStmt</span>&gt;\n",
       "    &lt;<span style=\"color: #008000; font-weight: bold\">name</span>&gt;\n",
       "     Produced by David Edwards, David King, and the Online Distributed\n",
       "            Proofreading Team at <span style=\"color: #999999; font-weight: bold\">&amp;lt;</span>http://www.pgdp.net/<span style=\"color: #999999; font-weight: bold\">&amp;gt;</span>.\n",
       "            (This file was produced from images generously made available\n",
       "            by The Internet Archive).\n",
       "    &lt;/<span style=\"color: #008000; font-weight: bold\">name</span>&gt;\n",
       "   &lt;/<span style=\"color: #008000; font-weight: bold\">respStmt</span>&gt;\n",
       "   &lt;<span style=\"color: #008000; font-weight: bold\">item</span>&gt;\n",
       "    Project Gutenberg TEI edition 1\n",
       "   &lt;/<span style=\"color: #008000; font-weight: bold\">item</span>&gt;\n",
       "  &lt;/<span style=\"color: #008000; font-weight: bold\">change</span>&gt;\n",
       " &lt;/<span style=\"color: #008000; font-weight: bold\">revisionDesc</span>&gt;\n",
       "&lt;/<span style=\"color: #008000; font-weight: bold\">teiHeader</span>&gt;\n",
       "</pre></div>\n",
       "<hr/>"
      ],
      "text/plain": [
       "<teiHeader>\n",
       "<fileDesc>\n",
       "<titleStmt>\n",
       "<title>The Brothers Karamazov</title>\n",
       "<author><name reg=\"Dostoyevsky, Fyodor\">Fyodor Dostoyevsky</name></author>\n",
       "</titleStmt>\n",
       "<editionStmt>\n",
       "<edition n=\"1\">Edition 1</edition>\n",
       "</editionStmt>\n",
       "<publicationStmt>\n",
       "<publisher>Project Gutenberg</publisher>\n",
       "<date>February 12, 2009</date>\n",
       "<idno type=\"etext-no\">28054</idno>\n",
       "<availability>\n",
       "<p>This eBook is for the use of anyone anywhere at no cost and\n",
       "        with almost no restrictions whatsoever. You may copy it, give it\n",
       "        away or re-use it under the terms of the Project Gutenberg\n",
       "        License online at www.gutenberg.org/license</p>\n",
       "</availability>\n",
       "</publicationStmt>\n",
       "<sourceDesc>\n",
       "<bibl>\n",
       "        Created electronically.\n",
       "      </bibl>\n",
       "</sourceDesc>\n",
       "</fileDesc>\n",
       "<encodingDesc>\n",
       "</encodingDesc>\n",
       "<profileDesc>\n",
       "<langUsage>\n",
       "<language id=\"en\"/>\n",
       "<language id=\"fr\"/>\n",
       "<language id=\"la\"/>\n",
       "<language id=\"de\"/>\n",
       "</langUsage>\n",
       "</profileDesc>\n",
       "<revisionDesc>\n",
       "<change>\n",
       "<date value=\"2009-02-12\">February 12, 2009</date>\n",
       "<respStmt>\n",
       "<name>\n",
       "            Produced by David Edwards, David King, and the Online Distributed\n",
       "            Proofreading Team at &lt;http://www.pgdp.net/&gt;.\n",
       "            (This file was produced from images generously made available\n",
       "            by The Internet Archive).\n",
       "        </name>\n",
       "</respStmt>\n",
       "<item>Project Gutenberg TEI edition 1</item>\n",
       "</change>\n",
       "</revisionDesc>\n",
       "</teiHeader>"
      ]
     },
     "execution_count": 3,
     "metadata": {},
     "output_type": "execute_result"
    }
   ],
   "source": [
    "tei.teiHeader"
   ]
  },
  {
   "cell_type": "markdown",
   "metadata": {},
   "source": [
    "Note that the source material presented tags to us in camel case, with certain letters capitalized. We had to preserve these same tags when querying the TEI for the teiHeader. Neglecting to do so would return no results:"
   ]
  },
  {
   "cell_type": "code",
   "execution_count": 36,
   "metadata": {
    "collapsed": true
   },
   "outputs": [],
   "source": [
    "tei.teiheader"
   ]
  },
  {
   "cell_type": "markdown",
   "metadata": {},
   "source": [
    "But if we had used a different parser to work with the TEI, a la\n",
    "\n",
    "BeautifulSoup(text, 'lxml')\n",
    "\n",
    "instead of\n",
    "\n",
    "BeautifulSoup(text, 'xml')\n",
    "\n",
    "The result would have actually flattened out all our capitalization, meaning that preserving the capitalization in our queries would have returned nothing! The bottom line - know your data. Looking at the TEI would tell us that a teiHeader tag exists with data in it, so it must be there somewhere.\n",
    "\n",
    "Using this knowledge, we could use the TEI tags to build up a workable text. And let's go ahead and re-import the text with a different parser so that we don't have to worry about capitalization:"
   ]
  },
  {
   "cell_type": "code",
   "execution_count": 8,
   "metadata": {},
   "outputs": [
    {
     "data": {
      "text/html": [
       "<div class=\"highlight\" style=\"background: #f8f8f8\"><pre style=\"line-height: 125%\"><span></span>&lt;<span style=\"color: #008000; font-weight: bold\">p</span>&gt;\n",
       " &lt;<span style=\"color: #008000; font-weight: bold\">q</span>&gt;\n",
       "  Fyodor Pavlovitch, for the last time, your compact, do you\n",
       "hear? Behave properly or I will pay you out!\n",
       " &lt;/<span style=\"color: #008000; font-weight: bold\">q</span>&gt;\n",
       " Miüsov had time to\n",
       "mutter again.\n",
       "&lt;/<span style=\"color: #008000; font-weight: bold\">p</span>&gt;\n",
       "</pre></div>\n",
       "<hr/>"
      ],
      "text/plain": [
       "<p>\n",
       "<q>Fyodor Pavlovitch, for the last time, your compact, do you\n",
       "hear? Behave properly or I will pay you out!</q> Miüsov had time to\n",
       "mutter again.\n",
       "</p>"
      ]
     },
     "execution_count": 8,
     "metadata": {},
     "output_type": "execute_result"
    }
   ],
   "source": [
    "# read in the filename, store it temporarily as a variable called text.\n",
    "with open(filename, 'r') as fin:\n",
    "    text = fin.read()\n",
    "\n",
    "# take the text, turn it into a BeautifulSoup object, and store in a variable called tei.\n",
    "tei = BeautifulSoup(text, 'xml')\n",
    "paragraphs =  tei.find_all('p')\n",
    "paragraphs[100]"
   ]
  },
  {
   "cell_type": "markdown",
   "metadata": {},
   "source": [
    "Using this same approach we could pull out all the text of those paragraphs, stripping away the tags using the .text function available to beautiful soup tags."
   ]
  },
  {
   "cell_type": "code",
   "execution_count": 37,
   "metadata": {},
   "outputs": [
    {
     "data": {
      "text/plain": [
       "'\\nFyodor Pavlovitch, for the last time, your compact, do you\\nhear? Behave properly or I will pay you out! Miüsov had time to\\nmutter again.\\n'"
      ]
     },
     "execution_count": 37,
     "metadata": {},
     "output_type": "execute_result"
    }
   ],
   "source": [
    "text_of_paragraphs = [paragraph.text for paragraph in paragraphs]\n",
    "text_of_paragraphs[100]"
   ]
  },
  {
   "cell_type": "markdown",
   "metadata": {},
   "source": [
    "Of course, the whole point of TEI is that we actually care about the ways that the tags are interacting with the text itself. In our previous example, the encoder used the <q> tag to mark [quoted material](http://www.tei-c.org/release/doc/tei-p5-doc/en/html/ref-q.html). We could use this tag to pull out all similar pieces of text that represent a moment of rhetorical distancing:"
   ]
  },
  {
   "cell_type": "code",
   "execution_count": 38,
   "metadata": {},
   "outputs": [
    {
     "name": "stdout",
     "output_type": "stream",
     "text": [
      "['landowner', 'romantic', \"One would think that you'd got a promotion, Fyodor Pavlovitch,\\nyou seem so pleased in spite of your sorrow,\", 'Lord, now lettest Thou Thy\\nservant depart in peace,', 'clericals.', 'Those innocent eyes slit my soul up like a razor,', 'from the halter,', 'wronged', 'possessed\\nby devils.']\n"
     ]
    }
   ],
   "source": [
    "# get all questions\n",
    "questions = [q.text for q in tei.find_all('q')]\n",
    "# print the number of questions\n",
    "len(questions)\n",
    "print(questions[0:9])"
   ]
  },
  {
   "cell_type": "markdown",
   "metadata": {},
   "source": [
    "The number of things that you'll be able to pull out of any particular text depends, ultimately, on the encoding itself. Marking a text up at all, but especially with TEI, is a deeply interpretive act. You'll want to look closely at your encoded text to get a sense of the options for you. With the example Dostoevsky text we could do many things, but the most basic might involve looking at the attributes of a tag to get a clearer sense of particular pieces of text. "
   ]
  },
  {
   "cell_type": "code",
   "execution_count": 39,
   "metadata": {},
   "outputs": [
    {
     "data": {
      "text/plain": [
       "FreqDist({'fr': 54, 'la': 5, None: 83, 'de': 11})"
      ]
     },
     "execution_count": 39,
     "metadata": {},
     "output_type": "execute_result"
    }
   ],
   "source": [
    "import nltk\n",
    "\n",
    "# find all instances of language marked as foreign\n",
    "foreign_text = tei.find_all('foreign')\n",
    "# get the lang attribute for each tag, where the encoder has stored information about the language of the text. \n",
    "foreign_text[0].get('lang')\n",
    "# get the text\n",
    "language_markings = [instance.get('lang') for instance in foreign_text]\n",
    "# get a set consisting of all the unique language flags.\n",
    "set(language_markings)\n",
    "nltk.FreqDist(language_markings)"
   ]
  },
  {
   "cell_type": "markdown",
   "metadata": {},
   "source": [
    "There are only three languages marked for the text. Of those markings, French phrases far exceed the number of German or latin. But 'None' is even more frequent. This might be an opportunity to clean up the TEI, as we could go through and assign language categories to those tags manually. This is a good reminder that the results of your text analysis should never be taken for granted. They're the results of human intervention, interpretation, and error all the way down.\n",
    "\n",
    "We might use this information to pull out all the text of a particular language:"
   ]
  },
  {
   "cell_type": "code",
   "execution_count": 36,
   "metadata": {},
   "outputs": [
    {
     "data": {
      "text/plain": [
       "['Il faudrait les\\ninventer',\n",
       " \"J'ai bu l'ombre d'un\\ncocher qui avec l'ombre d'une brosse frottait l'ombre d'une carrosse.\",\n",
       " 'un\\nchevalier parfait',\n",
       " 'chevalier',\n",
       " 'arrière-pensée',\n",
       " \"coup d'état\",\n",
       " 'poseurs',\n",
       " 'plus de noblesse que de sincérité',\n",
       " 'plus de\\nsincérité que de noblesse']"
      ]
     },
     "execution_count": 36,
     "metadata": {},
     "output_type": "execute_result"
    }
   ],
   "source": [
    "french_snippets = [instance.text for instance in foreign_text if instance.get('lang') == 'fr']\n",
    "french_snippets[0:9]"
   ]
  },
  {
   "cell_type": "markdown",
   "metadata": {},
   "source": [
    "Here we go through the text and use the 'lang' attribute to check whether a particular snippet is of the language we care about - French in this case. If it is we will save the information in it. "
   ]
  },
  {
   "cell_type": "code",
   "execution_count": null,
   "metadata": {
    "collapsed": true
   },
   "outputs": [],
   "source": []
  }
 ],
 "metadata": {
  "kernelspec": {
   "display_name": "Python 3",
   "language": "python",
   "name": "python3"
  },
  "language_info": {
   "codemirror_mode": {
    "name": "ipython",
    "version": 3
   },
   "file_extension": ".py",
   "mimetype": "text/x-python",
   "name": "python",
   "nbconvert_exporter": "python",
   "pygments_lexer": "ipython3",
   "version": "3.6.3"
  }
 },
 "nbformat": 4,
 "nbformat_minor": 2
}
