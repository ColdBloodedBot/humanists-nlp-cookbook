{
 "cells": [
  {
   "cell_type": "markdown",
   "metadata": {
    "deletable": true,
    "editable": true
   },
   "source": [
    "## Working with a folder of files\n",
    "\n",
    "Many common tutorials tell you how to work with a single file, but a new student might quickly want to scale up beyond a single text. In this folder we have a folder 'corpus' with three texts by Virginia Woolf in it. If you're comfortable with regular expressions you could use the glob library."
   ]
  },
  {
   "cell_type": "code",
   "execution_count": 1,
   "metadata": {
    "collapsed": false,
    "deletable": true,
    "editable": true
   },
   "outputs": [
    {
     "name": "stdout",
     "output_type": "stream",
     "text": [
      "corpus/\n",
      "['corpus/1922_jacobs_room.txt', 'corpus/sonnet_one.txt', 'corpus/1915_the_voyage_out.txt', 'corpus/1919_night_and_day.txt']\n"
     ]
    }
   ],
   "source": [
    "import glob\n",
    "\n",
    "folder_path = 'corpus/'\n",
    "extension = '*.txt'\n",
    "print(folder_path)\n",
    "print(glob.glob(folder_path + extension))"
   ]
  },
  {
   "cell_type": "markdown",
   "metadata": {
    "deletable": true,
    "editable": true
   },
   "source": [
    "If you want to work with a larger array of files (or you don't want to deal with regular expressions) you can define your own function to return all the files in a particular folder and nuance it as you would like. The os library allows you to do such things."
   ]
  },
  {
   "cell_type": "code",
   "execution_count": 2,
   "metadata": {
    "collapsed": false,
    "deletable": true,
    "editable": true
   },
   "outputs": [
    {
     "name": "stdout",
     "output_type": "stream",
     "text": [
      "['corpus/1922_jacobs_room.txt', 'corpus/.muck', 'corpus/sonnet_one.txt', 'corpus/1915_the_voyage_out.txt', 'corpus/1919_night_and_day.txt', 'corpus/sonnets/sonnet_two.txt', 'corpus/sonnets/sonnet_five.txt', 'corpus/sonnets/sonnet_four.txt', 'corpus/sonnets/sonnets_three.txt', 'corpus/sonnets/sonnet_one.txt']\n"
     ]
    }
   ],
   "source": [
    "import os\n",
    "\n",
    "def all_files(folder_name):\n",
    "    \"\"\"given a directory, return the filenames in it\"\"\"\n",
    "    texts = []\n",
    "    for (root, _, files) in os.walk(folder_name):\n",
    "        for fn in files:\n",
    "            path = os.path.join(root, fn)\n",
    "            texts.append(path)\n",
    "    return texts\n",
    "\n",
    "# now we try it\n",
    "print(all_files('corpus'))"
   ]
  },
  {
   "cell_type": "markdown",
   "metadata": {
    "deletable": true,
    "editable": true
   },
   "source": [
    "While glob.glob() and os.walk might appear to do similar things, there is an important distinction to be made between them. os.walk will walk a director recursively, meaning that, if the given folder contains other folders, your script will crawl through every subfolder to pull out every contained file. glob.glob() will only give you the files that match the gvien regular expression, so it will _not_ navigate the directory structure to find the contents of subfolders."
   ]
  },
  {
   "cell_type": "markdown",
   "metadata": {
    "deletable": true,
    "editable": true
   },
   "source": [
    "## Dot files\n",
    "\n",
    "But wait? What is that .muck file doing there? A file whose name is prefixed with a dot will be hidden from the graphical user interface (GUI). ie. you won't see that file in the desktop. Normally this is fine, but sometimes they can unexpectedly cause issues when working with the file structure from within Python. In particular, .DS_Store is a hidden file produced by Macs and that stores information about the current view (the computer has to store the fact that you want to view a window as icons somewhere!). You'll want to ignore those files that start with hidden characters so that you only work with the ones you care about. In this case, we can add an if statement to the function we defined to take care of this for us."
   ]
  },
  {
   "cell_type": "code",
   "execution_count": 3,
   "metadata": {
    "collapsed": false,
    "deletable": true,
    "editable": true
   },
   "outputs": [
    {
     "name": "stdout",
     "output_type": "stream",
     "text": [
      "['corpus/1922_jacobs_room.txt', 'corpus/sonnet_one.txt', 'corpus/1915_the_voyage_out.txt', 'corpus/1919_night_and_day.txt', 'corpus/sonnets/sonnet_two.txt', 'corpus/sonnets/sonnet_five.txt', 'corpus/sonnets/sonnet_four.txt', 'corpus/sonnets/sonnets_three.txt', 'corpus/sonnets/sonnet_one.txt']\n"
     ]
    }
   ],
   "source": [
    "import os\n",
    "\n",
    "def all_files(folder_name):\n",
    "    \"\"\"given a directory, return the filenames in it\"\"\"\n",
    "    texts = []\n",
    "    for (root, _, files) in os.walk(folder_name):\n",
    "        for fn in files:\n",
    "            if fn[0] == '.': # a new addition!\n",
    "                pass\n",
    "            else:\n",
    "                path = os.path.join(root, fn)\n",
    "                texts.append(path)\n",
    "    return texts\n",
    "\n",
    "# now we try it\n",
    "print(all_files('corpus'))"
   ]
  },
  {
   "cell_type": "markdown",
   "metadata": {
    "deletable": true,
    "editable": true
   },
   "source": [
    "Remember, a filename is just a string in this case. And strings are iterable in Python, meaning we can treat a filename like a sequence (a list) of characters. So take the lines that I've marked 'a new addition.' This section checks the first character of each filename. If we've got a period in that slot, we're looking at a hidden dot file that we don't care about. So we move along to the next item in the collection. If there is no period in that first slot we append it to the list of files."
   ]
  }
 ],
 "metadata": {
  "kernelspec": {
   "display_name": "Python 3",
   "language": "python",
   "name": "python3"
  },
  "language_info": {
   "codemirror_mode": {
    "name": "ipython",
    "version": 3
   },
   "file_extension": ".py",
   "mimetype": "text/x-python",
   "name": "python",
   "nbconvert_exporter": "python",
   "pygments_lexer": "ipython3",
   "version": "3.6.1"
  }
 },
 "nbformat": 4,
 "nbformat_minor": 2
}
