{
 "cells": [
  {
   "cell_type": "markdown",
   "metadata": {},
   "source": [
    "# PDF\n",
    "\n",
    "Unfortunately, humanities data is frequently produced without computational analysis in mind. While the ultimate goal is to get to text data, there are often cases when the format of the particular object is not amenable to quick and easy analysis. PDF is one format that can be deceptive and difficult to work with.\n",
    "\n",
    "To begin, it is necessary to distinguish between the image of a text and the actual textual data encoded alongside it. \n",
    "\n",
    "[more information here]\n",
    "\n",
    "The first step, then, is to determine whether or not the text you are looking at actually has text within it. If it does, we can use a package called [PDFminer](https://github.com/euske/pdfminer) to pull out that textual data. In our case we are using PDFminer.six because it supports Python 3.\n",
    "\n",
    "$ pip install pdfminer.six\n",
    "Another option - https://stackoverflow.com/questions/34837707/extracting-text-from-a-pdf-file-using-python\n"
   ]
  },
  {
   "cell_type": "markdown",
   "metadata": {},
   "source": [
    "pull in a bunch of PDFs\n",
    "get their texts\n",
    "output to text files"
   ]
  },
  {
   "cell_type": "markdown",
   "metadata": {},
   "source": [
    "OCR and improving OCR"
   ]
  },
  {
   "cell_type": "code",
   "execution_count": null,
   "metadata": {
    "collapsed": true
   },
   "outputs": [],
   "source": []
  }
 ],
 "metadata": {
  "kernelspec": {
   "display_name": "Python 3",
   "language": "python",
   "name": "python3"
  },
  "language_info": {
   "codemirror_mode": {
    "name": "ipython",
    "version": 3
   },
   "file_extension": ".py",
   "mimetype": "text/x-python",
   "name": "python",
   "nbconvert_exporter": "python",
   "pygments_lexer": "ipython3",
   "version": "3.8.5"
  }
 },
 "nbformat": 4,
 "nbformat_minor": 2
}
