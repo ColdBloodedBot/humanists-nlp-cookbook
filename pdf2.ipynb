{
 "cells": [
  {
   "cell_type": "markdown",
   "metadata": {},
   "source": [
    "I think I messed up my copy of the original pdf file so I have stated a new one\n",
    "\n",
    "___\n",
    "\n",
    "Unfortunately, humanities data is frequently produced without computational analysis in mind. While the ultimate goal is to get to text data, there are often cases when the format of the particular object is not amenable to quick and easy analysis. PDF is one format that can be deceptive and difficult to work with.\n",
    "\n",
    "To begin, it is necessary to distinguish between the image of a text and the actual textual data encoded alongside it. A PDF, as it is an image, can usually not be edited or searched. Unlike images of text, plain text can be searched, easily edited, and, important to us, easily used in NLP.  \n",
    "\n",
    "The first step, then, is to determine whether or not the text you are looking at actually has text within it. If it does, there are a variety of packages that allow us to pull out that textual data. We will look at two packages, PDFminer.six and OCRopus. Of the two, PDFminer is the easier to set up, and may well be the more user friendly for most needs including extracting textual data and converting PDFs. \n",
    "\n",
    "OCRopus may feel less user friendly to the novice coder. Ultimately, though, it is a more powerful tool that will allow you to run Optical Character Recognition (OCR) on your PDFs. \n",
    "\n",
    "Both packages have the ability to recognize a varitey of fonts and characters, including Chinese, Japanese, and Korean languages in the case of PDFminer.six and, in the case of OCRopus, Latin, Greek, Urdu, Sanskirt, and Devanagri. Additionaly, OCRopus allows you to train your own language-independent data models, especially helpful should you be working with languages or scripts that are no longer commonly used.\n",
    "\n",
    "Sentence or two about the scope of this page dependent on how far I get\n",
    "\n",
    "\n",
    "The first section will show you how to install PDFminer.six, and how to pull in PDFs and get their text output to text files. PDFminer.six supports Python 3. \n",
    "$ pip install pdfminer.six Another option - https://stackoverflow.com/questions/34837707/extracting-text-from-a-pdf-file-using-python\n",
    "pull in a bunch of PDFs get their texts output to text files\n",
    "OCR and improving OCR\n",
    "\n",
    "___"
   ]
  },
  {
   "cell_type": "code",
   "execution_count": null,
   "metadata": {},
   "outputs": [],
   "source": [
    "# install PDFminer.six\n",
    "$ pip install pdfminer.six"
   ]
  },
  {
   "cell_type": "markdown",
   "metadata": {},
   "source": [
    "You may now run PDFminer.six as a python package, or, if you only need to occasionally extract a PDF's text, you can use it's command line features."
   ]
  },
  {
   "cell_type": "code",
   "execution_count": null,
   "metadata": {
    "collapsed": true
   },
   "outputs": [],
   "source": [
    "# call PDFminer's built-in script to extract text from a PDF and print that data to the command line\n",
    "$ pdf2txt.py source.pdf\n",
    "\n",
    "# extract textual data from a PDF and write that data as plain text to a new file\n",
    "$ pdf2txt.py source.pdf -o output.txt"
   ]
  },
  {
   "cell_type": "markdown",
   "metadata": {},
   "source": [
    "To loop through a directory, find all the PDFs, extract their textual data, and write that data as a new txt file in an output directory:"
   ]
  },
  {
   "cell_type": "code",
   "execution_count": 15,
   "metadata": {},
   "outputs": [
    {
     "name": "stdout",
     "output_type": "stream",
     "text": [
      "look it finished\n"
     ]
    }
   ],
   "source": [
    "import pdfminer\n",
    "import os\n",
    "\n",
    "from io import StringIO\n",
    "from pdfminer.pdfinterp import PDFResourceManager, PDFPageInterpreter\n",
    "from pdfminer.converter import HTMLConverter,TextConverter,XMLConverter\n",
    "from pdfminer.layout import LAParams\n",
    "from pdfminer.pdfpage import PDFPage\n",
    "import io\n",
    "import os\n",
    "import sys, getopt\n",
    "\n",
    "#converts pdf, returns its text content as a string\n",
    "def convert(case, fn, pages=None):\n",
    "    if not pages: pagenums = set();\n",
    "    else:         pagenums = set(pages);\n",
    "    manager = PDFResourceManager()\n",
    "    codec = 'utf-8'\n",
    "    caching = True\n",
    "\n",
    "    if case == 'text' :\n",
    "        output = io.StringIO()\n",
    "        converter = TextConverter(manager, output, laparams=LAParams())\n",
    "    if case == 'HTML' :\n",
    "        output = io.BytesIO()\n",
    "        converter = HTMLConverter(manager, output, laparams=LAParams())\n",
    "\n",
    "    interpreter = PDFPageInterpreter(manager, converter)\n",
    "    infile = open(fn, 'rb')\n",
    "\n",
    "    for page in PDFPage.get_pages(infile, pagenums,caching=caching, check_extractable=True):\n",
    "        interpreter.process_page(page)\n",
    "\n",
    "    convertedPDF = output.getvalue()\n",
    "\n",
    "    infile.close(); converter.close(); output.close()\n",
    "    return convertedPDF\n",
    "\n",
    "def convertMultiple(pdfDir, txtDir):\n",
    "      for pdf in os.listdir(pdfDir): #iterate through pdfs in pdf directory\n",
    "          fileExtension = pdf.split(\".\")[-1]\n",
    "          if fileExtension == \"pdf\":\n",
    "              pdfFilename = pdfDir + pdf\n",
    "              text = convert('text',pdfFilename) #get string of text content of pdf\n",
    "              textFilename = txtDir + pdf + \".txt\"\n",
    "              textFile = open(textFilename, \"w\") #make text file\n",
    "              textFile.write(text) #write text to text file\n",
    "\n",
    "pdfDir = \"pdf_input_dir/\"\n",
    "txtDir = \"out_txt/\"\n",
    "convertMultiple(pdfDir, txtDir)\n",
    "print('look it finished')"
   ]
  },
  {
   "cell_type": "code",
   "execution_count": null,
   "metadata": {},
   "outputs": [],
   "source": []
  }
 ],
 "metadata": {
  "kernelspec": {
   "display_name": "Python 3",
   "language": "python",
   "name": "python3"
  },
  "language_info": {
   "codemirror_mode": {
    "name": "ipython",
    "version": 3
   },
   "file_extension": ".py",
   "mimetype": "text/x-python",
   "name": "python",
   "nbconvert_exporter": "python",
   "pygments_lexer": "ipython3",
   "version": "3.8.5"
  }
 },
 "nbformat": 4,
 "nbformat_minor": 4
}
