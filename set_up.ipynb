{
 "cells": [
  {
   "cell_type": "markdown",
   "metadata": {},
   "source": [
    "# Getting Set Up\n",
    "\n",
    "## Topics to cover:\n",
    "* IDE\n",
    "* filenames\n",
    "* way to organize your work"
   ]
  },
  {
   "cell_type": "markdown",
   "metadata": {},
   "source": [
    "## Linters\n",
    "\n",
    "If you're new to this kind of work, you might be coming to programming after having taken a course in programming, worked through a book or two on your own, or done some exercises while working through an online programming course. That's great! Odds are pretty good that you've also been making the work unnecessarily difficult for yourself. \n",
    "\n",
    "When you're programming for the first time, you were probably writing code with little help. In other words, you only found out that there was a problem with your code after you ran it and something broke. There is good reason for this workflow - it forces you to learn some basic syntax and memorize fundamental concepts before you learn to rely on other aids. But, in practice, many programmers make use of a linter, a piece of software that makes notes of style guide violations and outright errors. These powerful little tools can go a long way in helping to enforce good programming practices, and getting one set up on your system can make one a lot easier. Part of the reason I suggest using Atom is that it comes with a number of linters for a variety of languages baked in."
   ]
  },
  {
   "cell_type": "markdown",
   "metadata": {},
   "source": [
    "## Ignoring files in Version Control"
   ]
  },
  {
   "cell_type": "markdown",
   "metadata": {},
   "source": [
    "GitHub accounts are public by default, meaning anyone can look at your files, your project history, and your conversations about them that are stored on GitHub. To keep unwanted information from your project history, you'll want to use a .gitignore file. This file can take filenames, foldernames, and also wildcards so as to tell your git repository what information to ignore when updating your project's history. Here we make a new directory, 'my_files' and change into it. Once inside, we initialize a git repository and use the touch command to create a .gitignore file."
   ]
  },
  {
   "cell_type": "code",
   "execution_count": 2,
   "metadata": {},
   "outputs": [
    {
     "name": "stdout",
     "output_type": "stream",
     "text": [
      "Initialized empty Git repository in /Users/Brandon/projects/python-cookbook/my-files/.git/\n"
     ]
    }
   ],
   "source": [
    "%%bash\n",
    "mkdir my-files\n",
    "cd my-files\n",
    "git init\n",
    "touch .gitignore"
   ]
  },
  {
   "cell_type": "markdown",
   "metadata": {},
   "source": [
    "Note that .gitignore is a dot file, so it will be hidden by the ls command and by a GUI by default. "
   ]
  },
  {
   "cell_type": "code",
   "execution_count": 6,
   "metadata": {},
   "outputs": [],
   "source": [
    "%%bash\n",
    "cd my-files\n",
    "ls"
   ]
  },
  {
   "cell_type": "markdown",
   "metadata": {},
   "source": [
    "We can check to make sure it is there with a modified ls command:"
   ]
  },
  {
   "cell_type": "code",
   "execution_count": 9,
   "metadata": {
    "scrolled": true
   },
   "outputs": [
    {
     "name": "stdout",
     "output_type": "stream",
     "text": [
      ".\n",
      "..\n",
      ".git\n",
      ".gitignore\n"
     ]
    }
   ],
   "source": [
    "%%bash\n",
    "cd my-files\n",
    "ls -a"
   ]
  },
  {
   "cell_type": "markdown",
   "metadata": {},
   "source": [
    "The .gitignore file can be easily edited with a text editor - simply open it like you would any other file and add the names of files or folders that you want to add, each on their own line. You can also add to the file using the command line. Let's add several things to our .gitignore file this way."
   ]
  },
  {
   "cell_type": "code",
   "execution_count": 26,
   "metadata": {
    "collapsed": true
   },
   "outputs": [],
   "source": [
    "%%bash\n",
    "cd my-files\n",
    "echo 'test-file-1.txt' > .gitignore\n",
    "echo 'test-file-2.txt' >> .gitignore\n",
    "echo 'my-files/' >> .gitignore"
   ]
  },
  {
   "cell_type": "code",
   "execution_count": 27,
   "metadata": {},
   "outputs": [
    {
     "name": "stdout",
     "output_type": "stream",
     "text": [
      "test-file-1.txt\n",
      "test-file-2.txt\n",
      "my-files/\n"
     ]
    }
   ],
   "source": [
    "%%bash\n",
    "cd my-files\n",
    "cat .gitignore"
   ]
  },
  {
   "cell_type": "markdown",
   "metadata": {},
   "source": [
    "The cat command reads out the contents of a file. So in this case, we're using it to confirm that we successfully added a list of files and folders to our .gitignore. We could also open our text editor to confirm as well!"
   ]
  },
  {
   "cell_type": "markdown",
   "metadata": {},
   "source": [
    "## Version Control and Sensitive Information\n",
    "\n",
    "\"Oops! I just realized that I have been committing copyrighted material to GitHub!\"\n",
    "\n",
    "The whole point of a version control system like GitHub is that it should be very, very difficult to lose anything permanently. We want redundancy, and we want to have a record of every piece of our work to be tracked. This can cause real problems when, say, you suddenly realize that you have been uploading content to you publicly readable GitHub repository that you should not otherwise have there. Some examples:\n",
    "\n",
    "* sensitive information - passwords, credentials\n",
    "* temporary files that will clutter the repository\n",
    "* copyrighted material\n",
    "\n",
    "Because GitHub and version control systems try to make it very difficult to throw things away, correcting this issue is not as easy as just deleting the files. That will keep them from showing up in the current state of the project, but someone canny enough could go through your project's history to find records of those files that you want to remove. You'll need to remove them from the entire history of your project, which you can do a single command. The following assumes you have accidentally added a folder 'mistakes_to_be_corrected' to your GitHub repository:"
   ]
  },
  {
   "cell_type": "markdown",
   "metadata": {},
   "source": [
    "$ git filter-branch --tree-filter 'rm -rf mistakes_to_be_corrected' HEAD"
   ]
  },
  {
   "cell_type": "markdown",
   "metadata": {},
   "source": [
    "Now it is as though the 'mistakes_to_be_corrected' folder was never a part of our project history - it only exists on our computer. Since GitHub is a distributed model for version control, the offending data will also be out in the cloud until you update the master record on GitHub:"
   ]
  },
  {
   "cell_type": "markdown",
   "metadata": {},
   "source": [
    "$ git push origin master --force"
   ]
  },
  {
   "cell_type": "markdown",
   "metadata": {},
   "source": [
    "For more on this sort of thing and for a more detailed explanation that can account for edge cases, check out Dalibor Nasevic's [discussion on his blog](https://dalibornasevic.com/posts/2-permanently-remove-files-and-folders-from-git-repo)."
   ]
  },
  {
   "cell_type": "markdown",
   "metadata": {},
   "source": [
    "## Ways to Organize Your Work\n",
    "\n",
    "I suggest organizing an NLP project according so as to separate the following:\n",
    "\n",
    "* inputs\n",
    "* outputs\n",
    "* files related to processing"
   ]
  }
 ],
 "metadata": {
  "kernelspec": {
   "display_name": "Python 3",
   "language": "python",
   "name": "python3"
  },
  "language_info": {
   "codemirror_mode": {
    "name": "ipython",
    "version": 3
   },
   "file_extension": ".py",
   "mimetype": "text/x-python",
   "name": "python",
   "nbconvert_exporter": "python",
   "pygments_lexer": "ipython3",
   "version": "3.7.3"
  }
 },
 "nbformat": 4,
 "nbformat_minor": 2
}
