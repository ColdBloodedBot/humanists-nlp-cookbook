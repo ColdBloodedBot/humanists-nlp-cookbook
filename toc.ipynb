{
 "cells": [
  {
   "cell_type": "markdown",
   "metadata": {},
   "source": [
    "# A Humanist's Cookbook for Natural Language Processing in Python\n",
    "\n",
    "Brandon Walsh and Rebecca Draughon"
   ]
  },
  {
   "cell_type": "markdown",
   "metadata": {},
   "source": [
    "## Table of Contents\n",
    "\n",
    "### Introduction\n",
    "\n",
    "    \"How did I do that last time?\" - Brandon to himself, every day\n",
    "\n",
    "This project began with the goal of keeping Brandon from reinventing the wheel when working on natural language processing projects. By collecting together common scripts and approaches for personal use, it hoped to be a common reference point that would be easier to find than searching back through older repositories on GitHub. Eventually, and once Rebecca came onboard the project, we started documenting the methods with a more generalized audience in mind. \n",
    "\n",
    "The following notebook represents a cookbook of sorts, a series of Python 3 recipes for common problems and issues associated with preparing data for text analysis and natural language processing. The target audience is students or intermediate programmers who have begun to learn their way around Python but who need a little help pulling the pieces together to get something done. The goal is twofold:\n",
    "\n",
    "1. Present codeblocks for common problems.\n",
    "2. Contextualize those blocks with humanists in mind.\n",
    "\n",
    "The text, at this point at least, makes no real attempt at coverage. Nor is there a real sequence through which someone should be expected to workIt simply gather scripts relevant to our work as we came to them in a way that is presented for a more generalized audience. There are a number of ways to approach any NLP problem, and any tweak can have big ramifications for the results. Hopefully this text will help intermediate programmers get going and give them the knowledge to have a little better understanding of what they're working with. \n",
    "\n",
    "- We'll periodically add news things as we get to them. Initial release and last updated Summer of 2020. Issues found with things here can be logged on the [issue tracker for our GitHub repository](https://github.com/walshbr/humanists-nlp-cookbook/issues/new). \n",
    "\n",
    "### First Steps\n",
    "\n",
    "* [Set up](set_up.ipynb)\n",
    "* [Working with the file structure](file_structure.ipynb)\n",
    "\n",
    "### Getting Data\n",
    "* [Working with Plain Text Files](plain_text.ipynb)\n",
    "* [Getting data from websites](scraping.ipynb) \n",
    "* [Working with TEI](tei.ipynb)\n",
    "\n",
    "### Preparing Data\n",
    "\n",
    "* [Stopwords](stopwords.ipynb)\n",
    "* [Dividing your text](dividing.ipynb)\n",
    "* [Preparing a corpus pipeline](corpus.ipynb)\n",
    "\n"
   ]
  }
 ],
 "metadata": {
  "kernelspec": {
   "display_name": "Python 3",
   "language": "python",
   "name": "python3"
  },
  "language_info": {
   "codemirror_mode": {
    "name": "ipython",
    "version": 3
   },
   "file_extension": ".py",
   "mimetype": "text/x-python",
   "name": "python",
   "nbconvert_exporter": "python",
   "pygments_lexer": "ipython3",
   "version": "3.8.5"
  }
 },
 "nbformat": 4,
 "nbformat_minor": 2
}
