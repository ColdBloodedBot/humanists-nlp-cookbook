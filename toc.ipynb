{
 "cells": [
  {
   "cell_type": "markdown",
   "metadata": {},
   "source": [
    "# A Humanist's Cookbook for Natural Language Processing in Python"
   ]
  },
  {
   "cell_type": "markdown",
   "metadata": {},
   "source": [
    "## Table of Contents\n",
    "\n",
    "### Introduction\n",
    "\n",
    "**\"How did I do that last time? \\*searches through old files to find some code to copy\\* \" - Brandon to himself, every day**\n",
    "\n",
    "This project began with the goal of keeping Brandon from reinventing the wheel when working on natural language processing projects. By collecting together common scripts and approaches for personal use, it hoped to be a common reference point that would be easier to find than searching back through older repositories on GitHub. Eventually, we started documenting the methods with a more generalized audience in mind. \n",
    "\n",
    "The following notebook represents a cookbook of sorts, a series of python 3 recipes for common problems and issues associated with preparing data for text analysis and natural language processing. The target audience is students or intermediate programmers who have begun to learn their way around Python but who need a little help pulling the pieces together to get something done. The goal is twofold:\n",
    "\n",
    "1. Present codeblocks for common problems.\n",
    "2. Contextualize those blocks with humanists in mind.\n",
    "\n",
    "There are a number of ways to approach any NLP problem, and any tweak can have big ramifications for the results. Hopefully this text will help intermediate programmers get going and give them the knowledge to have a little better understanding of what they're working with. \n",
    "\n",
    "### First Steps\n",
    "\n",
    "* [Set up](set_up.ipynb) Drafted\n",
    "* [Working with the file structure](file_structure.ipynb) Drafted\n",
    "\n",
    "### Getting Data\n",
    "* [Working with Plain Text Files](plain_text.ipynb) Drafted\n",
    "* [Getting data from websites](scraping.ipynb) Drafted\n",
    "* [xml and tei](xml.ipynb) (Is there anything to do here?)\n",
    "* [Working with tei](Working%20with%20tei%20draft.ipynb) (can this be cut?)\n",
    "* [Contextualized Word Search within a TEI document](contextualized_word_search.ipynb) To Review \n",
    "* csv\n",
    "* [PDF](pdf.ipynb)\n",
    "\n",
    "### Preparing Data\n",
    "\n",
    "* [Stopwords](stopwords.ipynb) Drafted\n",
    "* [Chunking](chunking.ipynb) Drafted\n",
    "* [Preparing a corpus pipeline](corpus.ipynb) In progress\n",
    "\n"
   ]
  }
 ],
 "metadata": {
  "kernelspec": {
   "display_name": "Python 3",
   "language": "python",
   "name": "python3"
  },
  "language_info": {
   "codemirror_mode": {
    "name": "ipython",
    "version": 3
   },
   "file_extension": ".py",
   "mimetype": "text/x-python",
   "name": "python",
   "nbconvert_exporter": "python",
   "pygments_lexer": "ipython3",
   "version": "3.8.5"
  }
 },
 "nbformat": 4,
 "nbformat_minor": 2
}
