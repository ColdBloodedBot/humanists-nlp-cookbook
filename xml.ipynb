{
 "cells": [
  {
   "cell_type": "markdown",
   "metadata": {
    "deletable": true,
    "editable": true
   },
   "source": [
    "# Working with XML and TEI\n",
    "\n",
    "The Text Encoding Initiative (TEI) is one of the longest standing and robust digital humanities projects. Thanks to the longstanding work of the TEI consortium, scholars have extensive tools at their disposal for encoding the nuances of textual data in a systematic way. Once a text has been organized and encoded, it can sometimes be difficult to tell what might come next for your encoded and shared documents. There are number of possibilities related to display and archiving, but let's take a look at the analytical affordances of such structured data.\n",
    "\n",
    "TEI is a flavor of XML, and we can use the same tools to access it that we used in the scraping chapter for HTML. First let's read in some text. We have a TEI encoded version of Dostoevsky's _The Brothers Karamazov_, [available from Project Gutenberg](http://www.gutenberg.org/browse/authors/d#a314)."
   ]
  },
  {
   "cell_type": "code",
   "execution_count": 20,
   "metadata": {
    "collapsed": false
   },
   "outputs": [
    {
     "name": "stdout",
     "output_type": "stream",
     "text": [
      "The soup extension is already loaded. To reload it, use:\n",
      "  %reload_ext soup\n"
     ]
    }
   ],
   "source": [
    "%load_ext soup"
   ]
  },
  {
   "cell_type": "code",
   "execution_count": 33,
   "metadata": {
    "collapsed": false,
    "deletable": true,
    "editable": true
   },
   "outputs": [],
   "source": [
    "# import the BeautifulSoup library\n",
    "from bs4 import BeautifulSoup\n",
    "\n",
    "# store the filename of the text.\n",
    "filename = 'corpus/brothers_karamazov.tei'\n",
    "\n",
    "# read in the filename, store it temporarily as a variable called text.\n",
    "with open(filename, 'r') as fin:\n",
    "    text = fin.read()\n",
    "\n",
    "# take the text, turn it into a BeautifulSoup object, and store in a variable called tei.\n",
    "tei = BeautifulSoup(text, 'xml')"
   ]
  },
  {
   "cell_type": "markdown",
   "metadata": {},
   "source": [
    "We know have access to the encoded text and can manipulate it in much the same way that we would an HTML file. It is worth noting that knowing excatly _what_ to query for depends to a large degree on knowledge of your object of study. No two TEI files will be formatted or encoded in exactly the same way, so you will need to closely examine your materials early on. Let's take a look at the first part of the TEI file."
   ]
  },
  {
   "cell_type": "code",
   "execution_count": 35,
   "metadata": {
    "collapsed": false,
    "scrolled": true
   },
   "outputs": [
    {
     "data": {
      "text/html": [
       "<div class=\"highlight\" style=\"background: #f8f8f8\"><pre style=\"line-height: 125%\"><span></span>&lt;<span style=\"color: #008000; font-weight: bold\">teiHeader</span>&gt;\n",
       " &lt;<span style=\"color: #008000; font-weight: bold\">fileDesc</span>&gt;\n",
       "  &lt;<span style=\"color: #008000; font-weight: bold\">titleStmt</span>&gt;\n",
       "   &lt;<span style=\"color: #008000; font-weight: bold\">title</span>&gt;\n",
       "    The Brothers Karamazov\n",
       "   &lt;/<span style=\"color: #008000; font-weight: bold\">title</span>&gt;\n",
       "   &lt;<span style=\"color: #008000; font-weight: bold\">author</span>&gt;\n",
       "    &lt;<span style=\"color: #008000; font-weight: bold\">name</span> <span style=\"color: #7D9029\">reg</span><span style=\"color: #666666\">=</span><span style=\"color: #BA2121\">&quot;Dostoyevsky, Fyodor&quot;</span>&gt;\n",
       "     Fyodor Dostoyevsky\n",
       "    &lt;/<span style=\"color: #008000; font-weight: bold\">name</span>&gt;\n",
       "   &lt;/<span style=\"color: #008000; font-weight: bold\">author</span>&gt;\n",
       "  &lt;/<span style=\"color: #008000; font-weight: bold\">titleStmt</span>&gt;\n",
       "  &lt;<span style=\"color: #008000; font-weight: bold\">editionStmt</span>&gt;\n",
       "   &lt;<span style=\"color: #008000; font-weight: bold\">edition</span> <span style=\"color: #7D9029\">n</span><span style=\"color: #666666\">=</span><span style=\"color: #BA2121\">&quot;1&quot;</span>&gt;\n",
       "    Edition 1\n",
       "   &lt;/<span style=\"color: #008000; font-weight: bold\">edition</span>&gt;\n",
       "  &lt;/<span style=\"color: #008000; font-weight: bold\">editionStmt</span>&gt;\n",
       "  &lt;<span style=\"color: #008000; font-weight: bold\">publicationStmt</span>&gt;\n",
       "   &lt;<span style=\"color: #008000; font-weight: bold\">publisher</span>&gt;\n",
       "    Project Gutenberg\n",
       "   &lt;/<span style=\"color: #008000; font-weight: bold\">publisher</span>&gt;\n",
       "   &lt;<span style=\"color: #008000; font-weight: bold\">date</span>&gt;\n",
       "    February 12, 2009\n",
       "   &lt;/<span style=\"color: #008000; font-weight: bold\">date</span>&gt;\n",
       "   &lt;<span style=\"color: #008000; font-weight: bold\">idno</span> <span style=\"color: #7D9029\">type</span><span style=\"color: #666666\">=</span><span style=\"color: #BA2121\">&quot;etext-no&quot;</span>&gt;\n",
       "    28054\n",
       "   &lt;/<span style=\"color: #008000; font-weight: bold\">idno</span>&gt;\n",
       "   &lt;<span style=\"color: #008000; font-weight: bold\">availability</span>&gt;\n",
       "    &lt;<span style=\"color: #008000; font-weight: bold\">p</span>&gt;\n",
       "     This eBook is for the use of anyone anywhere at no cost and\n",
       "        with almost no restrictions whatsoever. You may copy it, give it\n",
       "        away or re-use it under the terms of the Project Gutenberg\n",
       "        License online at www.gutenberg.org/license\n",
       "    &lt;/<span style=\"color: #008000; font-weight: bold\">p</span>&gt;\n",
       "   &lt;/<span style=\"color: #008000; font-weight: bold\">availability</span>&gt;\n",
       "  &lt;/<span style=\"color: #008000; font-weight: bold\">publicationStmt</span>&gt;\n",
       "  &lt;<span style=\"color: #008000; font-weight: bold\">sourceDesc</span>&gt;\n",
       "   &lt;<span style=\"color: #008000; font-weight: bold\">bibl</span>&gt;\n",
       "    Created electronically.\n",
       "   &lt;/<span style=\"color: #008000; font-weight: bold\">bibl</span>&gt;\n",
       "  &lt;/<span style=\"color: #008000; font-weight: bold\">sourceDesc</span>&gt;\n",
       " &lt;/<span style=\"color: #008000; font-weight: bold\">fileDesc</span>&gt;\n",
       " &lt;<span style=\"color: #008000; font-weight: bold\">encodingDesc</span>&gt;\n",
       " &lt;/<span style=\"color: #008000; font-weight: bold\">encodingDesc</span>&gt;\n",
       " &lt;<span style=\"color: #008000; font-weight: bold\">profileDesc</span>&gt;\n",
       "  &lt;<span style=\"color: #008000; font-weight: bold\">langUsage</span>&gt;\n",
       "   &lt;<span style=\"color: #008000; font-weight: bold\">language</span> <span style=\"color: #7D9029\">id</span><span style=\"color: #666666\">=</span><span style=\"color: #BA2121\">&quot;en&quot;</span>/&gt;\n",
       "   &lt;<span style=\"color: #008000; font-weight: bold\">language</span> <span style=\"color: #7D9029\">id</span><span style=\"color: #666666\">=</span><span style=\"color: #BA2121\">&quot;fr&quot;</span>/&gt;\n",
       "   &lt;<span style=\"color: #008000; font-weight: bold\">language</span> <span style=\"color: #7D9029\">id</span><span style=\"color: #666666\">=</span><span style=\"color: #BA2121\">&quot;la&quot;</span>/&gt;\n",
       "   &lt;<span style=\"color: #008000; font-weight: bold\">language</span> <span style=\"color: #7D9029\">id</span><span style=\"color: #666666\">=</span><span style=\"color: #BA2121\">&quot;de&quot;</span>/&gt;\n",
       "  &lt;/<span style=\"color: #008000; font-weight: bold\">langUsage</span>&gt;\n",
       " &lt;/<span style=\"color: #008000; font-weight: bold\">profileDesc</span>&gt;\n",
       " &lt;<span style=\"color: #008000; font-weight: bold\">revisionDesc</span>&gt;\n",
       "  &lt;<span style=\"color: #008000; font-weight: bold\">change</span>&gt;\n",
       "   &lt;<span style=\"color: #008000; font-weight: bold\">date</span> <span style=\"color: #7D9029\">value</span><span style=\"color: #666666\">=</span><span style=\"color: #BA2121\">&quot;2009-02-12&quot;</span>&gt;\n",
       "    February 12, 2009\n",
       "   &lt;/<span style=\"color: #008000; font-weight: bold\">date</span>&gt;\n",
       "   &lt;<span style=\"color: #008000; font-weight: bold\">respStmt</span>&gt;\n",
       "    &lt;<span style=\"color: #008000; font-weight: bold\">name</span>&gt;\n",
       "     Produced by David Edwards, David King, and the Online Distributed\n",
       "            Proofreading Team at <span style=\"color: #999999; font-weight: bold\">&amp;lt;</span>http://www.pgdp.net/<span style=\"color: #999999; font-weight: bold\">&amp;gt;</span>.\n",
       "            (This file was produced from images generously made available\n",
       "            by The Internet Archive).\n",
       "    &lt;/<span style=\"color: #008000; font-weight: bold\">name</span>&gt;\n",
       "   &lt;/<span style=\"color: #008000; font-weight: bold\">respStmt</span>&gt;\n",
       "   &lt;<span style=\"color: #008000; font-weight: bold\">item</span>&gt;\n",
       "    Project Gutenberg TEI edition 1\n",
       "   &lt;/<span style=\"color: #008000; font-weight: bold\">item</span>&gt;\n",
       "  &lt;/<span style=\"color: #008000; font-weight: bold\">change</span>&gt;\n",
       " &lt;/<span style=\"color: #008000; font-weight: bold\">revisionDesc</span>&gt;\n",
       "&lt;/<span style=\"color: #008000; font-weight: bold\">teiHeader</span>&gt;\n",
       "</pre></div>\n",
       "<hr/>"
      ],
      "text/plain": [
       "<teiHeader>\n",
       "<fileDesc>\n",
       "<titleStmt>\n",
       "<title>The Brothers Karamazov</title>\n",
       "<author><name reg=\"Dostoyevsky, Fyodor\">Fyodor Dostoyevsky</name></author>\n",
       "</titleStmt>\n",
       "<editionStmt>\n",
       "<edition n=\"1\">Edition 1</edition>\n",
       "</editionStmt>\n",
       "<publicationStmt>\n",
       "<publisher>Project Gutenberg</publisher>\n",
       "<date>February 12, 2009</date>\n",
       "<idno type=\"etext-no\">28054</idno>\n",
       "<availability>\n",
       "<p>This eBook is for the use of anyone anywhere at no cost and\n",
       "        with almost no restrictions whatsoever. You may copy it, give it\n",
       "        away or re-use it under the terms of the Project Gutenberg\n",
       "        License online at www.gutenberg.org/license</p>\n",
       "</availability>\n",
       "</publicationStmt>\n",
       "<sourceDesc>\n",
       "<bibl>\n",
       "        Created electronically.\n",
       "      </bibl>\n",
       "</sourceDesc>\n",
       "</fileDesc>\n",
       "<encodingDesc>\n",
       "</encodingDesc>\n",
       "<profileDesc>\n",
       "<langUsage>\n",
       "<language id=\"en\"/>\n",
       "<language id=\"fr\"/>\n",
       "<language id=\"la\"/>\n",
       "<language id=\"de\"/>\n",
       "</langUsage>\n",
       "</profileDesc>\n",
       "<revisionDesc>\n",
       "<change>\n",
       "<date value=\"2009-02-12\">February 12, 2009</date>\n",
       "<respStmt>\n",
       "<name>\n",
       "            Produced by David Edwards, David King, and the Online Distributed\n",
       "            Proofreading Team at &lt;http://www.pgdp.net/&gt;.\n",
       "            (This file was produced from images generously made available\n",
       "            by The Internet Archive).\n",
       "        </name>\n",
       "</respStmt>\n",
       "<item>Project Gutenberg TEI edition 1</item>\n",
       "</change>\n",
       "</revisionDesc>\n",
       "</teiHeader>"
      ]
     },
     "execution_count": 35,
     "metadata": {},
     "output_type": "execute_result"
    }
   ],
   "source": [
    "tei.teiHeader"
   ]
  },
  {
   "cell_type": "markdown",
   "metadata": {},
   "source": [
    "Note that the source material presented tags to us in camel case, with certain letters capitalized. We had to preserve these same tags when querying the TEI for the teiHeader. Neglecting to do so would return no results:"
   ]
  },
  {
   "cell_type": "code",
   "execution_count": 36,
   "metadata": {
    "collapsed": true
   },
   "outputs": [],
   "source": [
    "tei.teiheader"
   ]
  },
  {
   "cell_type": "markdown",
   "metadata": {},
   "source": [
    "But if we had used a different parser to work with the TEI, a la\n",
    "\n",
    "BeautifulSoup(text, 'lxml')\n",
    "\n",
    "instead of\n",
    "\n",
    "BeautifulSoup(text, 'xml')\n",
    "\n",
    "The result would have actually flattened out all our capitalization, meaning that preserving the capitalization in our queries would have returned nothing! The bottom line - know your data. Looking at the TEI would tell us that a teiHeader tag exists with data in it, so it must be there somewhere. "
   ]
  }
 ],
 "metadata": {
  "kernelspec": {
   "display_name": "Python 3",
   "language": "python",
   "name": "python3"
  },
  "language_info": {
   "codemirror_mode": {
    "name": "ipython",
    "version": 3
   },
   "file_extension": ".py",
   "mimetype": "text/x-python",
   "name": "python",
   "nbconvert_exporter": "python",
   "pygments_lexer": "ipython3",
   "version": "3.6.1"
  }
 },
 "nbformat": 4,
 "nbformat_minor": 2
}
