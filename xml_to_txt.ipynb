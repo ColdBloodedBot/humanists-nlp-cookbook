{
 "cells": [
  {
   "cell_type": "markdown",
   "metadata": {},
   "source": [
    "Many NLP pipelines and tools assume a plain text (.txt) file input. If you only have access to your text in an XML or TEI tagged version, the following code can be used to strip the tags and write a text-only version of the document as a plain text file.\n",
    "\n",
    "The following uses Homer's Iliad as translated by Alexander Pope [available from Project Gutenburg](https://www.gutenberg.org/ebooks/6130), and is stored in the corpus. "
   ]
  },
  {
   "cell_type": "code",
   "execution_count": 1,
   "metadata": {},
   "outputs": [],
   "source": [
    "# import the Beautiful Soup library\n",
    "from bs4 import BeautifulSoup\n",
    "\n",
    "# store the tagged text's filepath \n",
    "filename = 'corpus/iliad.tei'\n",
    "\n",
    "# read in the filename, store it temporarily as a variable called raw_text \n",
    "with open(filename, 'r') as file_in:\n",
    "    raw_text = file_in.read()\n",
    "\n",
    "# take the raw_text, turn it into a BeautifulSoup object, and store in a variable called soup\n",
    "soup = BeautifulSoup(raw_text, 'lxml')\n",
    "\n",
    "# pull all of the text from the BeautifulSoup object and store it as a variable called processed_tei\n",
    "processed_tei = soup.text\n",
    "\n",
    "# name the new file and write it \n",
    "with open('iliad.txt', 'w') as file_out:\n",
    "    file_out.write(processed_tei)"
   ]
  },
  {
   "cell_type": "markdown",
   "metadata": {},
   "source": [
    "The following will loop over a corpus of tagged documents and write them as plain text."
   ]
  }
 ],
 "metadata": {
  "kernelspec": {
   "display_name": "Python 3",
   "language": "python",
   "name": "python3"
  },
  "language_info": {
   "codemirror_mode": {
    "name": "ipython",
    "version": 3
   },
   "file_extension": ".py",
   "mimetype": "text/x-python",
   "name": "python",
   "nbconvert_exporter": "python",
   "pygments_lexer": "ipython3",
   "version": "3.6.3"
  }
 },
 "nbformat": 4,
 "nbformat_minor": 4
}
