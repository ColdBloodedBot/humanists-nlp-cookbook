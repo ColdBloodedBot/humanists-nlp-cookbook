{
 "cells": [
  {
   "cell_type": "markdown",
   "metadata": {},
   "source": [
    "Many NLP pipelines and tools assume a plain text (.txt) file input. If you only have access to your text in an XML or TEI tagged version, the following code can be used to stip the tags and write a text-only version of the document as a plain text file."
   ]
  },
  {
   "cell_type": "code",
   "execution_count": null,
   "metadata": {},
   "outputs": [],
   "source": [
    "# import the Beautiful Soup library\n",
    "from bs4 import BeautifulSoup\n",
    "\n",
    "# store the text's filepath\n",
    "# Question for Brandon: should this be a real file in the corpus or is it better to use a more generic filepath?\n",
    "filename = 'corpus/iliad.tei'\n",
    "\n",
    "# read in the filename, store it temporarily as a variable called original.\n",
    "# Question for Brandon: I don't love that I named the variable \"original.\" Trying to avoid any text as variable, text as not-tagged-content confusion. Open to new variable name here.\n",
    "with open(filename, 'r') as fin:\n",
    "    original = fin.read()\n",
    "\n",
    "# take the original, turn it into a BeautifulSoup object, and store in a variable called soup.\n",
    "soup = BeautifulSoup(text, 'lxml')\n",
    "\n",
    "# pull the text from the BeautifulSoup object and store it as a variable called text\n",
    "text = soup.text\n",
    "\n",
    "# write the new file\n",
    "with open('new_filename.txt', 'w') as fin:\n",
    "    output = fin.write(text)"
   ]
  },
  {
   "cell_type": "markdown",
   "metadata": {},
   "source": [
    "The following will loop over a corpus of tagged documents and write them as plain text."
   ]
  }
 ],
 "metadata": {
  "kernelspec": {
   "display_name": "Python 3",
   "language": "python",
   "name": "python3"
  },
  "language_info": {
   "codemirror_mode": {
    "name": "ipython",
    "version": 3
   },
   "file_extension": ".py",
   "mimetype": "text/x-python",
   "name": "python",
   "nbconvert_exporter": "python",
   "pygments_lexer": "ipython3",
   "version": "3.6.3"
  }
 },
 "nbformat": 4,
 "nbformat_minor": 4
}
